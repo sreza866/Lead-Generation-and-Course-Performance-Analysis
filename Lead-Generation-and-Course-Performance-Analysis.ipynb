{
 "cells": [
  {
   "cell_type": "code",
   "execution_count": 78,
   "id": "fce8627a-03e5-4ff1-b41c-2c7706da68e8",
   "metadata": {},
   "outputs": [],
   "source": [
    "import pandas as pd\n",
    "import numpy as np\n",
    "import matplotlib.pyplot as plt\n",
    "import seaborn as sns\n",
    "import squarify"
   ]
  },
  {
   "cell_type": "code",
   "execution_count": 2,
   "id": "5154c646-791b-4da7-8308-14f9413ff5ba",
   "metadata": {},
   "outputs": [],
   "source": [
    "%matplotlib inline"
   ]
  },
  {
   "cell_type": "code",
   "execution_count": 3,
   "id": "c2e08399-f1d9-4f39-acaa-357cbd217d9d",
   "metadata": {},
   "outputs": [],
   "source": [
    "course_df = pd.read_csv(\"courses.csv\")"
   ]
  },
  {
   "cell_type": "code",
   "execution_count": 4,
   "id": "00c79e9c-b28f-474a-a907-e346e1214211",
   "metadata": {},
   "outputs": [
    {
     "data": {
      "text/html": [
       "<div>\n",
       "<style scoped>\n",
       "    .dataframe tbody tr th:only-of-type {\n",
       "        vertical-align: middle;\n",
       "    }\n",
       "\n",
       "    .dataframe tbody tr th {\n",
       "        vertical-align: top;\n",
       "    }\n",
       "\n",
       "    .dataframe thead th {\n",
       "        text-align: right;\n",
       "    }\n",
       "</style>\n",
       "<table border=\"1\" class=\"dataframe\">\n",
       "  <thead>\n",
       "    <tr style=\"text-align: right;\">\n",
       "      <th></th>\n",
       "      <th>Channel_group</th>\n",
       "      <th>course</th>\n",
       "      <th>lead_id</th>\n",
       "      <th>Lead_type</th>\n",
       "      <th>lead_date</th>\n",
       "      <th>graduation_year</th>\n",
       "      <th>amount_paid</th>\n",
       "      <th>paid_at</th>\n",
       "    </tr>\n",
       "  </thead>\n",
       "  <tbody>\n",
       "    <tr>\n",
       "      <th>0</th>\n",
       "      <td>A</td>\n",
       "      <td>Java</td>\n",
       "      <td>1,42,649</td>\n",
       "      <td>ABC</td>\n",
       "      <td>17-05-2024 17:53</td>\n",
       "      <td>2008</td>\n",
       "      <td>NaN</td>\n",
       "      <td>NaN</td>\n",
       "    </tr>\n",
       "    <tr>\n",
       "      <th>1</th>\n",
       "      <td>A</td>\n",
       "      <td>Java</td>\n",
       "      <td>41,63,228</td>\n",
       "      <td>XYZ</td>\n",
       "      <td>25-05-2024 15:23</td>\n",
       "      <td>2009</td>\n",
       "      <td>NaN</td>\n",
       "      <td>NaN</td>\n",
       "    </tr>\n",
       "    <tr>\n",
       "      <th>2</th>\n",
       "      <td>B</td>\n",
       "      <td>Java</td>\n",
       "      <td>41,76,457</td>\n",
       "      <td>EFG</td>\n",
       "      <td>06-05-2024 10:12</td>\n",
       "      <td>2000</td>\n",
       "      <td>NaN</td>\n",
       "      <td>NaN</td>\n",
       "    </tr>\n",
       "    <tr>\n",
       "      <th>3</th>\n",
       "      <td>A</td>\n",
       "      <td>Java</td>\n",
       "      <td>1,36,989</td>\n",
       "      <td>ABC</td>\n",
       "      <td>16-05-2024 12:31</td>\n",
       "      <td>2009</td>\n",
       "      <td>NaN</td>\n",
       "      <td>NaN</td>\n",
       "    </tr>\n",
       "    <tr>\n",
       "      <th>4</th>\n",
       "      <td>C</td>\n",
       "      <td>Java</td>\n",
       "      <td>1,40,085</td>\n",
       "      <td>ABC</td>\n",
       "      <td>01-05-2024 20:35</td>\n",
       "      <td>2002</td>\n",
       "      <td>NaN</td>\n",
       "      <td>NaN</td>\n",
       "    </tr>\n",
       "    <tr>\n",
       "      <th>...</th>\n",
       "      <td>...</td>\n",
       "      <td>...</td>\n",
       "      <td>...</td>\n",
       "      <td>...</td>\n",
       "      <td>...</td>\n",
       "      <td>...</td>\n",
       "      <td>...</td>\n",
       "      <td>...</td>\n",
       "    </tr>\n",
       "    <tr>\n",
       "      <th>16455</th>\n",
       "      <td>A</td>\n",
       "      <td>Python</td>\n",
       "      <td>41,79,788</td>\n",
       "      <td>EFG</td>\n",
       "      <td>03-05-2024 05:27</td>\n",
       "      <td>2023</td>\n",
       "      <td>NaN</td>\n",
       "      <td>NaN</td>\n",
       "    </tr>\n",
       "    <tr>\n",
       "      <th>16456</th>\n",
       "      <td>B</td>\n",
       "      <td>SEO</td>\n",
       "      <td>41,73,873</td>\n",
       "      <td>XYZ</td>\n",
       "      <td>04-05-2024 18:40</td>\n",
       "      <td>2009</td>\n",
       "      <td>NaN</td>\n",
       "      <td>NaN</td>\n",
       "    </tr>\n",
       "    <tr>\n",
       "      <th>16457</th>\n",
       "      <td>A</td>\n",
       "      <td>SEO</td>\n",
       "      <td>41,82,565</td>\n",
       "      <td>XYZ</td>\n",
       "      <td>28-05-2024 00:59</td>\n",
       "      <td>2008</td>\n",
       "      <td>NaN</td>\n",
       "      <td>NaN</td>\n",
       "    </tr>\n",
       "    <tr>\n",
       "      <th>16458</th>\n",
       "      <td>E</td>\n",
       "      <td>SEO</td>\n",
       "      <td>41,77,786</td>\n",
       "      <td>XYZ</td>\n",
       "      <td>04-05-2024 07:55</td>\n",
       "      <td>2022</td>\n",
       "      <td>NaN</td>\n",
       "      <td>NaN</td>\n",
       "    </tr>\n",
       "    <tr>\n",
       "      <th>16459</th>\n",
       "      <td>H</td>\n",
       "      <td>Python</td>\n",
       "      <td>42,08,065</td>\n",
       "      <td>XYZ</td>\n",
       "      <td>26-05-2024 02:54</td>\n",
       "      <td>2010</td>\n",
       "      <td>NaN</td>\n",
       "      <td>NaN</td>\n",
       "    </tr>\n",
       "  </tbody>\n",
       "</table>\n",
       "<p>16460 rows × 8 columns</p>\n",
       "</div>"
      ],
      "text/plain": [
       "      Channel_group  course    lead_id Lead_type         lead_date  \\\n",
       "0                 A    Java   1,42,649       ABC  17-05-2024 17:53   \n",
       "1                 A    Java  41,63,228       XYZ  25-05-2024 15:23   \n",
       "2                 B    Java  41,76,457       EFG  06-05-2024 10:12   \n",
       "3                 A    Java   1,36,989       ABC  16-05-2024 12:31   \n",
       "4                 C    Java   1,40,085       ABC  01-05-2024 20:35   \n",
       "...             ...     ...        ...       ...               ...   \n",
       "16455             A  Python  41,79,788       EFG  03-05-2024 05:27   \n",
       "16456             B     SEO  41,73,873       XYZ  04-05-2024 18:40   \n",
       "16457             A     SEO  41,82,565       XYZ  28-05-2024 00:59   \n",
       "16458             E     SEO  41,77,786       XYZ  04-05-2024 07:55   \n",
       "16459             H  Python  42,08,065       XYZ  26-05-2024 02:54   \n",
       "\n",
       "       graduation_year  amount_paid paid_at  \n",
       "0                 2008          NaN     NaN  \n",
       "1                 2009          NaN     NaN  \n",
       "2                 2000          NaN     NaN  \n",
       "3                 2009          NaN     NaN  \n",
       "4                 2002          NaN     NaN  \n",
       "...                ...          ...     ...  \n",
       "16455             2023          NaN     NaN  \n",
       "16456             2009          NaN     NaN  \n",
       "16457             2008          NaN     NaN  \n",
       "16458             2022          NaN     NaN  \n",
       "16459             2010          NaN     NaN  \n",
       "\n",
       "[16460 rows x 8 columns]"
      ]
     },
     "execution_count": 4,
     "metadata": {},
     "output_type": "execute_result"
    }
   ],
   "source": [
    "course_df"
   ]
  },
  {
   "cell_type": "code",
   "execution_count": 5,
   "id": "65004ea6-9357-4fe8-b6c5-fc2ecec105ce",
   "metadata": {},
   "outputs": [
    {
     "data": {
      "text/html": [
       "<div>\n",
       "<style scoped>\n",
       "    .dataframe tbody tr th:only-of-type {\n",
       "        vertical-align: middle;\n",
       "    }\n",
       "\n",
       "    .dataframe tbody tr th {\n",
       "        vertical-align: top;\n",
       "    }\n",
       "\n",
       "    .dataframe thead th {\n",
       "        text-align: right;\n",
       "    }\n",
       "</style>\n",
       "<table border=\"1\" class=\"dataframe\">\n",
       "  <thead>\n",
       "    <tr style=\"text-align: right;\">\n",
       "      <th></th>\n",
       "      <th>Channel_group</th>\n",
       "      <th>course</th>\n",
       "      <th>lead_id</th>\n",
       "      <th>Lead_type</th>\n",
       "      <th>lead_date</th>\n",
       "      <th>graduation_year</th>\n",
       "      <th>amount_paid</th>\n",
       "      <th>paid_at</th>\n",
       "    </tr>\n",
       "  </thead>\n",
       "  <tbody>\n",
       "    <tr>\n",
       "      <th>0</th>\n",
       "      <td>A</td>\n",
       "      <td>Java</td>\n",
       "      <td>1,42,649</td>\n",
       "      <td>ABC</td>\n",
       "      <td>17-05-2024 17:53</td>\n",
       "      <td>2008</td>\n",
       "      <td>NaN</td>\n",
       "      <td>NaN</td>\n",
       "    </tr>\n",
       "    <tr>\n",
       "      <th>1</th>\n",
       "      <td>A</td>\n",
       "      <td>Java</td>\n",
       "      <td>41,63,228</td>\n",
       "      <td>XYZ</td>\n",
       "      <td>25-05-2024 15:23</td>\n",
       "      <td>2009</td>\n",
       "      <td>NaN</td>\n",
       "      <td>NaN</td>\n",
       "    </tr>\n",
       "    <tr>\n",
       "      <th>2</th>\n",
       "      <td>B</td>\n",
       "      <td>Java</td>\n",
       "      <td>41,76,457</td>\n",
       "      <td>EFG</td>\n",
       "      <td>06-05-2024 10:12</td>\n",
       "      <td>2000</td>\n",
       "      <td>NaN</td>\n",
       "      <td>NaN</td>\n",
       "    </tr>\n",
       "    <tr>\n",
       "      <th>3</th>\n",
       "      <td>A</td>\n",
       "      <td>Java</td>\n",
       "      <td>1,36,989</td>\n",
       "      <td>ABC</td>\n",
       "      <td>16-05-2024 12:31</td>\n",
       "      <td>2009</td>\n",
       "      <td>NaN</td>\n",
       "      <td>NaN</td>\n",
       "    </tr>\n",
       "    <tr>\n",
       "      <th>4</th>\n",
       "      <td>C</td>\n",
       "      <td>Java</td>\n",
       "      <td>1,40,085</td>\n",
       "      <td>ABC</td>\n",
       "      <td>01-05-2024 20:35</td>\n",
       "      <td>2002</td>\n",
       "      <td>NaN</td>\n",
       "      <td>NaN</td>\n",
       "    </tr>\n",
       "  </tbody>\n",
       "</table>\n",
       "</div>"
      ],
      "text/plain": [
       "  Channel_group course    lead_id Lead_type         lead_date  \\\n",
       "0             A   Java   1,42,649       ABC  17-05-2024 17:53   \n",
       "1             A   Java  41,63,228       XYZ  25-05-2024 15:23   \n",
       "2             B   Java  41,76,457       EFG  06-05-2024 10:12   \n",
       "3             A   Java   1,36,989       ABC  16-05-2024 12:31   \n",
       "4             C   Java   1,40,085       ABC  01-05-2024 20:35   \n",
       "\n",
       "   graduation_year  amount_paid paid_at  \n",
       "0             2008          NaN     NaN  \n",
       "1             2009          NaN     NaN  \n",
       "2             2000          NaN     NaN  \n",
       "3             2009          NaN     NaN  \n",
       "4             2002          NaN     NaN  "
      ]
     },
     "execution_count": 5,
     "metadata": {},
     "output_type": "execute_result"
    }
   ],
   "source": [
    "course_df.head()"
   ]
  },
  {
   "cell_type": "code",
   "execution_count": 6,
   "id": "e2615e16-1062-4ad0-ab0e-f8fd5925c2b8",
   "metadata": {},
   "outputs": [
    {
     "data": {
      "text/plain": [
       "Index(['Channel_group', 'course', 'lead_id', 'Lead_type', 'lead_date',\n",
       "       'graduation_year', 'amount_paid', 'paid_at'],\n",
       "      dtype='object')"
      ]
     },
     "execution_count": 6,
     "metadata": {},
     "output_type": "execute_result"
    }
   ],
   "source": [
    "course_df.columns"
   ]
  },
  {
   "cell_type": "code",
   "execution_count": 7,
   "id": "ba0187cd-3c60-45d6-9c56-821e23783c56",
   "metadata": {},
   "outputs": [
    {
     "name": "stdout",
     "output_type": "stream",
     "text": [
      "<class 'pandas.core.frame.DataFrame'>\n",
      "RangeIndex: 16460 entries, 0 to 16459\n",
      "Data columns (total 8 columns):\n",
      " #   Column           Non-Null Count  Dtype  \n",
      "---  ------           --------------  -----  \n",
      " 0   Channel_group    16460 non-null  object \n",
      " 1   course           16460 non-null  object \n",
      " 2   lead_id          16460 non-null  object \n",
      " 3   Lead_type        16460 non-null  object \n",
      " 4   lead_date        16460 non-null  object \n",
      " 5   graduation_year  16460 non-null  int64  \n",
      " 6   amount_paid      648 non-null    float64\n",
      " 7   paid_at          648 non-null    object \n",
      "dtypes: float64(1), int64(1), object(6)\n",
      "memory usage: 1.0+ MB\n"
     ]
    }
   ],
   "source": [
    "course_df.info()"
   ]
  },
  {
   "cell_type": "code",
   "execution_count": 8,
   "id": "4a2e3890-99da-4e84-98bd-a7daab3981de",
   "metadata": {},
   "outputs": [
    {
     "data": {
      "text/plain": [
       "Channel_group       object\n",
       "course              object\n",
       "lead_id             object\n",
       "Lead_type           object\n",
       "lead_date           object\n",
       "graduation_year      int64\n",
       "amount_paid        float64\n",
       "paid_at             object\n",
       "dtype: object"
      ]
     },
     "execution_count": 8,
     "metadata": {},
     "output_type": "execute_result"
    }
   ],
   "source": [
    "course_df.dtypes"
   ]
  },
  {
   "cell_type": "markdown",
   "id": "611d18ce-68b8-4507-95a9-024b067e161c",
   "metadata": {},
   "source": [
    "#### Data Cleaning and Preprocessing"
   ]
  },
  {
   "cell_type": "code",
   "execution_count": 9,
   "id": "af122bec-2cea-420e-a587-711b1cff5806",
   "metadata": {},
   "outputs": [],
   "source": [
    "course_df.rename(columns={\n",
    "    'Lead_date': 'Lead_Date',\n",
    "    'Channel_group': 'channel_group',\n",
    "    'Lead_type' : 'lead_type'\n",
    "}, inplace=True)"
   ]
  },
  {
   "cell_type": "code",
   "execution_count": 10,
   "id": "3d985427-dba6-4400-9a08-303bd065e683",
   "metadata": {},
   "outputs": [
    {
     "data": {
      "text/html": [
       "<div>\n",
       "<style scoped>\n",
       "    .dataframe tbody tr th:only-of-type {\n",
       "        vertical-align: middle;\n",
       "    }\n",
       "\n",
       "    .dataframe tbody tr th {\n",
       "        vertical-align: top;\n",
       "    }\n",
       "\n",
       "    .dataframe thead th {\n",
       "        text-align: right;\n",
       "    }\n",
       "</style>\n",
       "<table border=\"1\" class=\"dataframe\">\n",
       "  <thead>\n",
       "    <tr style=\"text-align: right;\">\n",
       "      <th></th>\n",
       "      <th>channel_group</th>\n",
       "      <th>course</th>\n",
       "      <th>lead_id</th>\n",
       "      <th>lead_type</th>\n",
       "      <th>lead_date</th>\n",
       "      <th>graduation_year</th>\n",
       "      <th>amount_paid</th>\n",
       "      <th>paid_at</th>\n",
       "    </tr>\n",
       "  </thead>\n",
       "  <tbody>\n",
       "    <tr>\n",
       "      <th>0</th>\n",
       "      <td>A</td>\n",
       "      <td>Java</td>\n",
       "      <td>1,42,649</td>\n",
       "      <td>ABC</td>\n",
       "      <td>17-05-2024 17:53</td>\n",
       "      <td>2008</td>\n",
       "      <td>NaN</td>\n",
       "      <td>NaN</td>\n",
       "    </tr>\n",
       "    <tr>\n",
       "      <th>1</th>\n",
       "      <td>A</td>\n",
       "      <td>Java</td>\n",
       "      <td>41,63,228</td>\n",
       "      <td>XYZ</td>\n",
       "      <td>25-05-2024 15:23</td>\n",
       "      <td>2009</td>\n",
       "      <td>NaN</td>\n",
       "      <td>NaN</td>\n",
       "    </tr>\n",
       "    <tr>\n",
       "      <th>2</th>\n",
       "      <td>B</td>\n",
       "      <td>Java</td>\n",
       "      <td>41,76,457</td>\n",
       "      <td>EFG</td>\n",
       "      <td>06-05-2024 10:12</td>\n",
       "      <td>2000</td>\n",
       "      <td>NaN</td>\n",
       "      <td>NaN</td>\n",
       "    </tr>\n",
       "    <tr>\n",
       "      <th>3</th>\n",
       "      <td>A</td>\n",
       "      <td>Java</td>\n",
       "      <td>1,36,989</td>\n",
       "      <td>ABC</td>\n",
       "      <td>16-05-2024 12:31</td>\n",
       "      <td>2009</td>\n",
       "      <td>NaN</td>\n",
       "      <td>NaN</td>\n",
       "    </tr>\n",
       "    <tr>\n",
       "      <th>4</th>\n",
       "      <td>C</td>\n",
       "      <td>Java</td>\n",
       "      <td>1,40,085</td>\n",
       "      <td>ABC</td>\n",
       "      <td>01-05-2024 20:35</td>\n",
       "      <td>2002</td>\n",
       "      <td>NaN</td>\n",
       "      <td>NaN</td>\n",
       "    </tr>\n",
       "  </tbody>\n",
       "</table>\n",
       "</div>"
      ],
      "text/plain": [
       "  channel_group course    lead_id lead_type         lead_date  \\\n",
       "0             A   Java   1,42,649       ABC  17-05-2024 17:53   \n",
       "1             A   Java  41,63,228       XYZ  25-05-2024 15:23   \n",
       "2             B   Java  41,76,457       EFG  06-05-2024 10:12   \n",
       "3             A   Java   1,36,989       ABC  16-05-2024 12:31   \n",
       "4             C   Java   1,40,085       ABC  01-05-2024 20:35   \n",
       "\n",
       "   graduation_year  amount_paid paid_at  \n",
       "0             2008          NaN     NaN  \n",
       "1             2009          NaN     NaN  \n",
       "2             2000          NaN     NaN  \n",
       "3             2009          NaN     NaN  \n",
       "4             2002          NaN     NaN  "
      ]
     },
     "execution_count": 10,
     "metadata": {},
     "output_type": "execute_result"
    }
   ],
   "source": [
    "course_df.head()"
   ]
  },
  {
   "cell_type": "code",
   "execution_count": 11,
   "id": "4232b2b5-02bc-4d58-bd85-667dbd33a730",
   "metadata": {},
   "outputs": [],
   "source": [
    "# Convert 'lead_date' to datetime\n",
    "course_df['lead_date'] = pd.to_datetime(course_df['lead_date'], format='%d-%m-%Y %H:%M')\n",
    "course_df['paid_at'] = pd.to_datetime(course_df['paid_at'], format='%d-%m-%Y %H:%M')"
   ]
  },
  {
   "cell_type": "code",
   "execution_count": 12,
   "id": "bd695af7-7062-47ec-a911-82f63015fe37",
   "metadata": {},
   "outputs": [
    {
     "name": "stdout",
     "output_type": "stream",
     "text": [
      "<class 'pandas.core.frame.DataFrame'>\n",
      "RangeIndex: 16460 entries, 0 to 16459\n",
      "Data columns (total 8 columns):\n",
      " #   Column           Non-Null Count  Dtype         \n",
      "---  ------           --------------  -----         \n",
      " 0   channel_group    16460 non-null  object        \n",
      " 1   course           16460 non-null  object        \n",
      " 2   lead_id          16460 non-null  object        \n",
      " 3   lead_type        16460 non-null  object        \n",
      " 4   lead_date        16460 non-null  datetime64[ns]\n",
      " 5   graduation_year  16460 non-null  int64         \n",
      " 6   amount_paid      648 non-null    float64       \n",
      " 7   paid_at          648 non-null    datetime64[ns]\n",
      "dtypes: datetime64[ns](2), float64(1), int64(1), object(4)\n",
      "memory usage: 1.0+ MB\n"
     ]
    }
   ],
   "source": [
    "course_df.info()"
   ]
  },
  {
   "cell_type": "code",
   "execution_count": 13,
   "id": "fceed826-2405-4b73-8fa8-4f4b50a7fd56",
   "metadata": {},
   "outputs": [],
   "source": [
    "# Remove unwanted characters like commas or spaces\n",
    "course_df['lead_id'] = course_df['lead_id'].str.replace(',', '')\n",
    "course_df['lead_id'] = course_df['lead_id'].str.strip()"
   ]
  },
  {
   "cell_type": "code",
   "execution_count": 14,
   "id": "d2bbc645-31bb-441c-9b7e-afee183524e2",
   "metadata": {},
   "outputs": [
    {
     "data": {
      "text/html": [
       "<div>\n",
       "<style scoped>\n",
       "    .dataframe tbody tr th:only-of-type {\n",
       "        vertical-align: middle;\n",
       "    }\n",
       "\n",
       "    .dataframe tbody tr th {\n",
       "        vertical-align: top;\n",
       "    }\n",
       "\n",
       "    .dataframe thead th {\n",
       "        text-align: right;\n",
       "    }\n",
       "</style>\n",
       "<table border=\"1\" class=\"dataframe\">\n",
       "  <thead>\n",
       "    <tr style=\"text-align: right;\">\n",
       "      <th></th>\n",
       "      <th>channel_group</th>\n",
       "      <th>course</th>\n",
       "      <th>lead_id</th>\n",
       "      <th>lead_type</th>\n",
       "      <th>lead_date</th>\n",
       "      <th>graduation_year</th>\n",
       "      <th>amount_paid</th>\n",
       "      <th>paid_at</th>\n",
       "    </tr>\n",
       "  </thead>\n",
       "  <tbody>\n",
       "    <tr>\n",
       "      <th>0</th>\n",
       "      <td>A</td>\n",
       "      <td>Java</td>\n",
       "      <td>142649</td>\n",
       "      <td>ABC</td>\n",
       "      <td>2024-05-17 17:53:00</td>\n",
       "      <td>2008</td>\n",
       "      <td>NaN</td>\n",
       "      <td>NaT</td>\n",
       "    </tr>\n",
       "    <tr>\n",
       "      <th>1</th>\n",
       "      <td>A</td>\n",
       "      <td>Java</td>\n",
       "      <td>4163228</td>\n",
       "      <td>XYZ</td>\n",
       "      <td>2024-05-25 15:23:00</td>\n",
       "      <td>2009</td>\n",
       "      <td>NaN</td>\n",
       "      <td>NaT</td>\n",
       "    </tr>\n",
       "    <tr>\n",
       "      <th>2</th>\n",
       "      <td>B</td>\n",
       "      <td>Java</td>\n",
       "      <td>4176457</td>\n",
       "      <td>EFG</td>\n",
       "      <td>2024-05-06 10:12:00</td>\n",
       "      <td>2000</td>\n",
       "      <td>NaN</td>\n",
       "      <td>NaT</td>\n",
       "    </tr>\n",
       "    <tr>\n",
       "      <th>3</th>\n",
       "      <td>A</td>\n",
       "      <td>Java</td>\n",
       "      <td>136989</td>\n",
       "      <td>ABC</td>\n",
       "      <td>2024-05-16 12:31:00</td>\n",
       "      <td>2009</td>\n",
       "      <td>NaN</td>\n",
       "      <td>NaT</td>\n",
       "    </tr>\n",
       "    <tr>\n",
       "      <th>4</th>\n",
       "      <td>C</td>\n",
       "      <td>Java</td>\n",
       "      <td>140085</td>\n",
       "      <td>ABC</td>\n",
       "      <td>2024-05-01 20:35:00</td>\n",
       "      <td>2002</td>\n",
       "      <td>NaN</td>\n",
       "      <td>NaT</td>\n",
       "    </tr>\n",
       "  </tbody>\n",
       "</table>\n",
       "</div>"
      ],
      "text/plain": [
       "  channel_group course  lead_id lead_type           lead_date  \\\n",
       "0             A   Java   142649       ABC 2024-05-17 17:53:00   \n",
       "1             A   Java  4163228       XYZ 2024-05-25 15:23:00   \n",
       "2             B   Java  4176457       EFG 2024-05-06 10:12:00   \n",
       "3             A   Java   136989       ABC 2024-05-16 12:31:00   \n",
       "4             C   Java   140085       ABC 2024-05-01 20:35:00   \n",
       "\n",
       "   graduation_year  amount_paid paid_at  \n",
       "0             2008          NaN     NaT  \n",
       "1             2009          NaN     NaT  \n",
       "2             2000          NaN     NaT  \n",
       "3             2009          NaN     NaT  \n",
       "4             2002          NaN     NaT  "
      ]
     },
     "execution_count": 14,
     "metadata": {},
     "output_type": "execute_result"
    }
   ],
   "source": [
    "course_df.head()"
   ]
  },
  {
   "cell_type": "code",
   "execution_count": 15,
   "id": "1b22f1e1-c289-4804-90ed-f12f1f3b2f34",
   "metadata": {},
   "outputs": [],
   "source": [
    "# Find the maximum length of lead_id\n",
    "max_length = course_df['lead_id'].str.len().max()\n",
    "\n",
    "# Standardize lead_id by padding with zeros to match the max length\n",
    "course_df['lead_id'] = course_df['lead_id'].str.zfill(max_length)"
   ]
  },
  {
   "cell_type": "code",
   "execution_count": 16,
   "id": "33e19b0f-c650-41f9-8d41-906c67842298",
   "metadata": {},
   "outputs": [
    {
     "data": {
      "text/html": [
       "<div>\n",
       "<style scoped>\n",
       "    .dataframe tbody tr th:only-of-type {\n",
       "        vertical-align: middle;\n",
       "    }\n",
       "\n",
       "    .dataframe tbody tr th {\n",
       "        vertical-align: top;\n",
       "    }\n",
       "\n",
       "    .dataframe thead th {\n",
       "        text-align: right;\n",
       "    }\n",
       "</style>\n",
       "<table border=\"1\" class=\"dataframe\">\n",
       "  <thead>\n",
       "    <tr style=\"text-align: right;\">\n",
       "      <th></th>\n",
       "      <th>channel_group</th>\n",
       "      <th>course</th>\n",
       "      <th>lead_id</th>\n",
       "      <th>lead_type</th>\n",
       "      <th>lead_date</th>\n",
       "      <th>graduation_year</th>\n",
       "      <th>amount_paid</th>\n",
       "      <th>paid_at</th>\n",
       "    </tr>\n",
       "  </thead>\n",
       "  <tbody>\n",
       "    <tr>\n",
       "      <th>0</th>\n",
       "      <td>A</td>\n",
       "      <td>Java</td>\n",
       "      <td>0142649</td>\n",
       "      <td>ABC</td>\n",
       "      <td>2024-05-17 17:53:00</td>\n",
       "      <td>2008</td>\n",
       "      <td>NaN</td>\n",
       "      <td>NaT</td>\n",
       "    </tr>\n",
       "    <tr>\n",
       "      <th>1</th>\n",
       "      <td>A</td>\n",
       "      <td>Java</td>\n",
       "      <td>4163228</td>\n",
       "      <td>XYZ</td>\n",
       "      <td>2024-05-25 15:23:00</td>\n",
       "      <td>2009</td>\n",
       "      <td>NaN</td>\n",
       "      <td>NaT</td>\n",
       "    </tr>\n",
       "    <tr>\n",
       "      <th>2</th>\n",
       "      <td>B</td>\n",
       "      <td>Java</td>\n",
       "      <td>4176457</td>\n",
       "      <td>EFG</td>\n",
       "      <td>2024-05-06 10:12:00</td>\n",
       "      <td>2000</td>\n",
       "      <td>NaN</td>\n",
       "      <td>NaT</td>\n",
       "    </tr>\n",
       "    <tr>\n",
       "      <th>3</th>\n",
       "      <td>A</td>\n",
       "      <td>Java</td>\n",
       "      <td>0136989</td>\n",
       "      <td>ABC</td>\n",
       "      <td>2024-05-16 12:31:00</td>\n",
       "      <td>2009</td>\n",
       "      <td>NaN</td>\n",
       "      <td>NaT</td>\n",
       "    </tr>\n",
       "    <tr>\n",
       "      <th>4</th>\n",
       "      <td>C</td>\n",
       "      <td>Java</td>\n",
       "      <td>0140085</td>\n",
       "      <td>ABC</td>\n",
       "      <td>2024-05-01 20:35:00</td>\n",
       "      <td>2002</td>\n",
       "      <td>NaN</td>\n",
       "      <td>NaT</td>\n",
       "    </tr>\n",
       "    <tr>\n",
       "      <th>...</th>\n",
       "      <td>...</td>\n",
       "      <td>...</td>\n",
       "      <td>...</td>\n",
       "      <td>...</td>\n",
       "      <td>...</td>\n",
       "      <td>...</td>\n",
       "      <td>...</td>\n",
       "      <td>...</td>\n",
       "    </tr>\n",
       "    <tr>\n",
       "      <th>16455</th>\n",
       "      <td>A</td>\n",
       "      <td>Python</td>\n",
       "      <td>4179788</td>\n",
       "      <td>EFG</td>\n",
       "      <td>2024-05-03 05:27:00</td>\n",
       "      <td>2023</td>\n",
       "      <td>NaN</td>\n",
       "      <td>NaT</td>\n",
       "    </tr>\n",
       "    <tr>\n",
       "      <th>16456</th>\n",
       "      <td>B</td>\n",
       "      <td>SEO</td>\n",
       "      <td>4173873</td>\n",
       "      <td>XYZ</td>\n",
       "      <td>2024-05-04 18:40:00</td>\n",
       "      <td>2009</td>\n",
       "      <td>NaN</td>\n",
       "      <td>NaT</td>\n",
       "    </tr>\n",
       "    <tr>\n",
       "      <th>16457</th>\n",
       "      <td>A</td>\n",
       "      <td>SEO</td>\n",
       "      <td>4182565</td>\n",
       "      <td>XYZ</td>\n",
       "      <td>2024-05-28 00:59:00</td>\n",
       "      <td>2008</td>\n",
       "      <td>NaN</td>\n",
       "      <td>NaT</td>\n",
       "    </tr>\n",
       "    <tr>\n",
       "      <th>16458</th>\n",
       "      <td>E</td>\n",
       "      <td>SEO</td>\n",
       "      <td>4177786</td>\n",
       "      <td>XYZ</td>\n",
       "      <td>2024-05-04 07:55:00</td>\n",
       "      <td>2022</td>\n",
       "      <td>NaN</td>\n",
       "      <td>NaT</td>\n",
       "    </tr>\n",
       "    <tr>\n",
       "      <th>16459</th>\n",
       "      <td>H</td>\n",
       "      <td>Python</td>\n",
       "      <td>4208065</td>\n",
       "      <td>XYZ</td>\n",
       "      <td>2024-05-26 02:54:00</td>\n",
       "      <td>2010</td>\n",
       "      <td>NaN</td>\n",
       "      <td>NaT</td>\n",
       "    </tr>\n",
       "  </tbody>\n",
       "</table>\n",
       "<p>16460 rows × 8 columns</p>\n",
       "</div>"
      ],
      "text/plain": [
       "      channel_group  course  lead_id lead_type           lead_date  \\\n",
       "0                 A    Java  0142649       ABC 2024-05-17 17:53:00   \n",
       "1                 A    Java  4163228       XYZ 2024-05-25 15:23:00   \n",
       "2                 B    Java  4176457       EFG 2024-05-06 10:12:00   \n",
       "3                 A    Java  0136989       ABC 2024-05-16 12:31:00   \n",
       "4                 C    Java  0140085       ABC 2024-05-01 20:35:00   \n",
       "...             ...     ...      ...       ...                 ...   \n",
       "16455             A  Python  4179788       EFG 2024-05-03 05:27:00   \n",
       "16456             B     SEO  4173873       XYZ 2024-05-04 18:40:00   \n",
       "16457             A     SEO  4182565       XYZ 2024-05-28 00:59:00   \n",
       "16458             E     SEO  4177786       XYZ 2024-05-04 07:55:00   \n",
       "16459             H  Python  4208065       XYZ 2024-05-26 02:54:00   \n",
       "\n",
       "       graduation_year  amount_paid paid_at  \n",
       "0                 2008          NaN     NaT  \n",
       "1                 2009          NaN     NaT  \n",
       "2                 2000          NaN     NaT  \n",
       "3                 2009          NaN     NaT  \n",
       "4                 2002          NaN     NaT  \n",
       "...                ...          ...     ...  \n",
       "16455             2023          NaN     NaT  \n",
       "16456             2009          NaN     NaT  \n",
       "16457             2008          NaN     NaT  \n",
       "16458             2022          NaN     NaT  \n",
       "16459             2010          NaN     NaT  \n",
       "\n",
       "[16460 rows x 8 columns]"
      ]
     },
     "execution_count": 16,
     "metadata": {},
     "output_type": "execute_result"
    }
   ],
   "source": [
    "course_df"
   ]
  },
  {
   "cell_type": "markdown",
   "id": "e998aac3-cf76-47c5-b8d9-8138b80fbac2",
   "metadata": {},
   "source": [
    "Here I am assuming- <br>\n",
    "amount_paid: Represents the amount a lead has paid.<br>\n",
    "Missing values likely indicate leads that haven’t made a payment yet.<br>\n",
    "paid_at: Represents the date of payment.<br>\n",
    "Missing values usually imply no payment was made.<br>"
   ]
  },
  {
   "cell_type": "code",
   "execution_count": 17,
   "id": "2e8643c8-51a1-42a3-a56b-6b75be083a87",
   "metadata": {},
   "outputs": [],
   "source": [
    "course_df['amount_paid'] = course_df['amount_paid'].fillna(0)  # Set missing amount_paid to 0\n",
    "course_df['paid_at'] = course_df['paid_at'].fillna(pd.NaT)  # Set missing paid_at to NaT"
   ]
  },
  {
   "cell_type": "code",
   "execution_count": 18,
   "id": "cd24724f-d0bf-4451-b071-625468891e64",
   "metadata": {},
   "outputs": [
    {
     "data": {
      "text/html": [
       "<div>\n",
       "<style scoped>\n",
       "    .dataframe tbody tr th:only-of-type {\n",
       "        vertical-align: middle;\n",
       "    }\n",
       "\n",
       "    .dataframe tbody tr th {\n",
       "        vertical-align: top;\n",
       "    }\n",
       "\n",
       "    .dataframe thead th {\n",
       "        text-align: right;\n",
       "    }\n",
       "</style>\n",
       "<table border=\"1\" class=\"dataframe\">\n",
       "  <thead>\n",
       "    <tr style=\"text-align: right;\">\n",
       "      <th></th>\n",
       "      <th>channel_group</th>\n",
       "      <th>course</th>\n",
       "      <th>lead_id</th>\n",
       "      <th>lead_type</th>\n",
       "      <th>lead_date</th>\n",
       "      <th>graduation_year</th>\n",
       "      <th>amount_paid</th>\n",
       "      <th>paid_at</th>\n",
       "    </tr>\n",
       "  </thead>\n",
       "  <tbody>\n",
       "    <tr>\n",
       "      <th>0</th>\n",
       "      <td>A</td>\n",
       "      <td>Java</td>\n",
       "      <td>0142649</td>\n",
       "      <td>ABC</td>\n",
       "      <td>2024-05-17 17:53:00</td>\n",
       "      <td>2008</td>\n",
       "      <td>0.0</td>\n",
       "      <td>NaT</td>\n",
       "    </tr>\n",
       "    <tr>\n",
       "      <th>1</th>\n",
       "      <td>A</td>\n",
       "      <td>Java</td>\n",
       "      <td>4163228</td>\n",
       "      <td>XYZ</td>\n",
       "      <td>2024-05-25 15:23:00</td>\n",
       "      <td>2009</td>\n",
       "      <td>0.0</td>\n",
       "      <td>NaT</td>\n",
       "    </tr>\n",
       "    <tr>\n",
       "      <th>2</th>\n",
       "      <td>B</td>\n",
       "      <td>Java</td>\n",
       "      <td>4176457</td>\n",
       "      <td>EFG</td>\n",
       "      <td>2024-05-06 10:12:00</td>\n",
       "      <td>2000</td>\n",
       "      <td>0.0</td>\n",
       "      <td>NaT</td>\n",
       "    </tr>\n",
       "    <tr>\n",
       "      <th>3</th>\n",
       "      <td>A</td>\n",
       "      <td>Java</td>\n",
       "      <td>0136989</td>\n",
       "      <td>ABC</td>\n",
       "      <td>2024-05-16 12:31:00</td>\n",
       "      <td>2009</td>\n",
       "      <td>0.0</td>\n",
       "      <td>NaT</td>\n",
       "    </tr>\n",
       "    <tr>\n",
       "      <th>4</th>\n",
       "      <td>C</td>\n",
       "      <td>Java</td>\n",
       "      <td>0140085</td>\n",
       "      <td>ABC</td>\n",
       "      <td>2024-05-01 20:35:00</td>\n",
       "      <td>2002</td>\n",
       "      <td>0.0</td>\n",
       "      <td>NaT</td>\n",
       "    </tr>\n",
       "  </tbody>\n",
       "</table>\n",
       "</div>"
      ],
      "text/plain": [
       "  channel_group course  lead_id lead_type           lead_date  \\\n",
       "0             A   Java  0142649       ABC 2024-05-17 17:53:00   \n",
       "1             A   Java  4163228       XYZ 2024-05-25 15:23:00   \n",
       "2             B   Java  4176457       EFG 2024-05-06 10:12:00   \n",
       "3             A   Java  0136989       ABC 2024-05-16 12:31:00   \n",
       "4             C   Java  0140085       ABC 2024-05-01 20:35:00   \n",
       "\n",
       "   graduation_year  amount_paid paid_at  \n",
       "0             2008          0.0     NaT  \n",
       "1             2009          0.0     NaT  \n",
       "2             2000          0.0     NaT  \n",
       "3             2009          0.0     NaT  \n",
       "4             2002          0.0     NaT  "
      ]
     },
     "execution_count": 18,
     "metadata": {},
     "output_type": "execute_result"
    }
   ],
   "source": [
    "course_df.head()"
   ]
  },
  {
   "cell_type": "code",
   "execution_count": 19,
   "id": "ae6d1700-5023-4cc4-a984-ca24c1ab9e99",
   "metadata": {},
   "outputs": [],
   "source": [
    "# Extract Year, Month, and Day from lead_date\n",
    "course_df['lead_year'] = course_df['lead_date'].dt.year\n",
    "course_df['lead_month'] = course_df['lead_date'].dt.month\n",
    "course_df['lead_day'] = course_df['lead_date'].dt.day"
   ]
  },
  {
   "cell_type": "code",
   "execution_count": 20,
   "id": "14e8cf5d-0271-47f2-b825-7ae6879a865c",
   "metadata": {},
   "outputs": [
    {
     "data": {
      "text/html": [
       "<div>\n",
       "<style scoped>\n",
       "    .dataframe tbody tr th:only-of-type {\n",
       "        vertical-align: middle;\n",
       "    }\n",
       "\n",
       "    .dataframe tbody tr th {\n",
       "        vertical-align: top;\n",
       "    }\n",
       "\n",
       "    .dataframe thead th {\n",
       "        text-align: right;\n",
       "    }\n",
       "</style>\n",
       "<table border=\"1\" class=\"dataframe\">\n",
       "  <thead>\n",
       "    <tr style=\"text-align: right;\">\n",
       "      <th></th>\n",
       "      <th>channel_group</th>\n",
       "      <th>course</th>\n",
       "      <th>lead_id</th>\n",
       "      <th>lead_type</th>\n",
       "      <th>lead_date</th>\n",
       "      <th>graduation_year</th>\n",
       "      <th>amount_paid</th>\n",
       "      <th>paid_at</th>\n",
       "      <th>lead_year</th>\n",
       "      <th>lead_month</th>\n",
       "      <th>lead_day</th>\n",
       "    </tr>\n",
       "  </thead>\n",
       "  <tbody>\n",
       "    <tr>\n",
       "      <th>0</th>\n",
       "      <td>A</td>\n",
       "      <td>Java</td>\n",
       "      <td>0142649</td>\n",
       "      <td>ABC</td>\n",
       "      <td>2024-05-17 17:53:00</td>\n",
       "      <td>2008</td>\n",
       "      <td>0.0</td>\n",
       "      <td>NaT</td>\n",
       "      <td>2024</td>\n",
       "      <td>5</td>\n",
       "      <td>17</td>\n",
       "    </tr>\n",
       "    <tr>\n",
       "      <th>1</th>\n",
       "      <td>A</td>\n",
       "      <td>Java</td>\n",
       "      <td>4163228</td>\n",
       "      <td>XYZ</td>\n",
       "      <td>2024-05-25 15:23:00</td>\n",
       "      <td>2009</td>\n",
       "      <td>0.0</td>\n",
       "      <td>NaT</td>\n",
       "      <td>2024</td>\n",
       "      <td>5</td>\n",
       "      <td>25</td>\n",
       "    </tr>\n",
       "    <tr>\n",
       "      <th>2</th>\n",
       "      <td>B</td>\n",
       "      <td>Java</td>\n",
       "      <td>4176457</td>\n",
       "      <td>EFG</td>\n",
       "      <td>2024-05-06 10:12:00</td>\n",
       "      <td>2000</td>\n",
       "      <td>0.0</td>\n",
       "      <td>NaT</td>\n",
       "      <td>2024</td>\n",
       "      <td>5</td>\n",
       "      <td>6</td>\n",
       "    </tr>\n",
       "    <tr>\n",
       "      <th>3</th>\n",
       "      <td>A</td>\n",
       "      <td>Java</td>\n",
       "      <td>0136989</td>\n",
       "      <td>ABC</td>\n",
       "      <td>2024-05-16 12:31:00</td>\n",
       "      <td>2009</td>\n",
       "      <td>0.0</td>\n",
       "      <td>NaT</td>\n",
       "      <td>2024</td>\n",
       "      <td>5</td>\n",
       "      <td>16</td>\n",
       "    </tr>\n",
       "    <tr>\n",
       "      <th>4</th>\n",
       "      <td>C</td>\n",
       "      <td>Java</td>\n",
       "      <td>0140085</td>\n",
       "      <td>ABC</td>\n",
       "      <td>2024-05-01 20:35:00</td>\n",
       "      <td>2002</td>\n",
       "      <td>0.0</td>\n",
       "      <td>NaT</td>\n",
       "      <td>2024</td>\n",
       "      <td>5</td>\n",
       "      <td>1</td>\n",
       "    </tr>\n",
       "  </tbody>\n",
       "</table>\n",
       "</div>"
      ],
      "text/plain": [
       "  channel_group course  lead_id lead_type           lead_date  \\\n",
       "0             A   Java  0142649       ABC 2024-05-17 17:53:00   \n",
       "1             A   Java  4163228       XYZ 2024-05-25 15:23:00   \n",
       "2             B   Java  4176457       EFG 2024-05-06 10:12:00   \n",
       "3             A   Java  0136989       ABC 2024-05-16 12:31:00   \n",
       "4             C   Java  0140085       ABC 2024-05-01 20:35:00   \n",
       "\n",
       "   graduation_year  amount_paid paid_at  lead_year  lead_month  lead_day  \n",
       "0             2008          0.0     NaT       2024           5        17  \n",
       "1             2009          0.0     NaT       2024           5        25  \n",
       "2             2000          0.0     NaT       2024           5         6  \n",
       "3             2009          0.0     NaT       2024           5        16  \n",
       "4             2002          0.0     NaT       2024           5         1  "
      ]
     },
     "execution_count": 20,
     "metadata": {},
     "output_type": "execute_result"
    }
   ],
   "source": [
    "course_df.head()"
   ]
  },
  {
   "cell_type": "markdown",
   "id": "c093c90e-e2f0-4b02-ba36-d820f02ca6bf",
   "metadata": {},
   "source": [
    "### Exploratory Data Analysis"
   ]
  },
  {
   "cell_type": "markdown",
   "id": "17c242e8-96b4-416b-975b-1ca314e1d7b5",
   "metadata": {},
   "source": [
    "#### Conversion Analysis\n",
    "Assuming:<br>\n",
    "Leads with amount_paid > 0 are considered converted.<br>\n",
    "Analyzing the conversion rate across different dimensions (e.g., channel_group, course, lead_type)."
   ]
  },
  {
   "cell_type": "code",
   "execution_count": 21,
   "id": "72a1ca39-8351-46db-9c26-991e2572ace1",
   "metadata": {},
   "outputs": [
    {
     "name": "stdout",
     "output_type": "stream",
     "text": [
      "Overall Conversion Rate: 3.94%\n"
     ]
    }
   ],
   "source": [
    "course_df['converted'] = course_df['amount_paid'] > 0\n",
    "\n",
    "# Overall conversion rate\n",
    "conversion_rate = course_df['converted'].mean() * 100\n",
    "print(f\"Overall Conversion Rate: {conversion_rate:.2f}%\")"
   ]
  },
  {
   "cell_type": "code",
   "execution_count": 22,
   "id": "ce579cb4-492f-476d-bc04-c9675f63383b",
   "metadata": {},
   "outputs": [
    {
     "name": "stdout",
     "output_type": "stream",
     "text": [
      "channel_group\n",
      "A     3.946041\n",
      "B    17.543860\n",
      "C     8.345753\n",
      "D     6.877898\n",
      "E     1.944444\n",
      "F     0.189155\n",
      "G     1.366743\n",
      "H     2.165605\n",
      "I     0.473934\n",
      "J     0.000000\n",
      "K     0.000000\n",
      "L     0.000000\n",
      "M     0.728597\n",
      "Name: converted, dtype: float64\n"
     ]
    }
   ],
   "source": [
    "# Conversion rate by channel_group\n",
    "conversion_by_channel = course_df.groupby('channel_group')['converted'].mean() * 100\n",
    "print(conversion_by_channel)"
   ]
  },
  {
   "cell_type": "code",
   "execution_count": 23,
   "id": "f216e70a-3d07-4287-a22c-3c5b22a67e8f",
   "metadata": {},
   "outputs": [
    {
     "name": "stdout",
     "output_type": "stream",
     "text": [
      "course\n",
      "CRM                 4.87\n",
      "Figma               3.38\n",
      "Google Analytics    3.24\n",
      "Guitar              4.57\n",
      "Java                4.26\n",
      "Python              3.05\n",
      "SEO                 4.12\n",
      "Name: converted, dtype: float64\n"
     ]
    }
   ],
   "source": [
    "# Conversion rate by course\n",
    "conversion_by_course = course_df.groupby('course')['converted'].mean() * 100\n",
    "print(round(conversion_by_course,2))"
   ]
  },
  {
   "cell_type": "code",
   "execution_count": 24,
   "id": "12084b84-f319-4424-9244-6afc0924658d",
   "metadata": {},
   "outputs": [
    {
     "name": "stdout",
     "output_type": "stream",
     "text": [
      "lead_type\n",
      "ABC    3.83\n",
      "EFG    5.87\n",
      "LMN    0.00\n",
      "XYZ    0.86\n",
      "Name: converted, dtype: float64\n"
     ]
    }
   ],
   "source": [
    "# Conversion rate by course\n",
    "conversion_by_lead_type = course_df.groupby('lead_type')['converted'].mean() * 100\n",
    "print(round(conversion_by_lead_type,2))"
   ]
  },
  {
   "cell_type": "markdown",
   "id": "2285723f-3c11-428d-a7f6-c4ae26f168c4",
   "metadata": {},
   "source": [
    "#### Payment Patterns\n",
    "Assuming:<br>\n",
    "The time it takes for leads to convert (paid_at - lead_date).<br>\n",
    "Analyzing the average time to conversion by course or channel."
   ]
  },
  {
   "cell_type": "code",
   "execution_count": 25,
   "id": "ef72cd2f-0091-4f8f-897e-54fed26f94c3",
   "metadata": {},
   "outputs": [
    {
     "name": "stdout",
     "output_type": "stream",
     "text": [
      "course\n",
      "CRM                  8\n",
      "Figma                9\n",
      "Google Analytics    10\n",
      "Guitar               8\n",
      "Java                 8\n",
      "Python               7\n",
      "SEO                  7\n",
      "Name: time_to_payment, dtype: Int64\n"
     ]
    }
   ],
   "source": [
    "course_df['time_to_payment'] = (course_df['paid_at'] - course_df['lead_date']).dt.days\n",
    "# Average time to payment by course\n",
    "avg_time_to_payment = course_df.groupby('course')['time_to_payment'].mean()\n",
    "avg_time_to_payment = avg_time_to_payment.round().astype('Int64')\n",
    "print(avg_time_to_payment)"
   ]
  },
  {
   "cell_type": "code",
   "execution_count": 26,
   "id": "7fc651bc-b71c-46ea-a1cc-e9f9da251f19",
   "metadata": {},
   "outputs": [
    {
     "name": "stdout",
     "output_type": "stream",
     "text": [
      "channel_group\n",
      "A       8\n",
      "B       8\n",
      "C       8\n",
      "D       9\n",
      "E       9\n",
      "F       5\n",
      "G       4\n",
      "H       8\n",
      "I       1\n",
      "J    <NA>\n",
      "K    <NA>\n",
      "L    <NA>\n",
      "M      10\n",
      "Name: time_to_payment, dtype: Int64\n"
     ]
    }
   ],
   "source": [
    "# Average time to payment by channel\n",
    "avg_time_to_payment = course_df.groupby('channel_group')['time_to_payment'].mean()\n",
    "avg_time_to_payment = avg_time_to_payment.round().astype('Int64')\n",
    "print(avg_time_to_payment)"
   ]
  },
  {
   "cell_type": "markdown",
   "id": "e0064f52-92f7-4abb-8fed-282493d6ba74",
   "metadata": {},
   "source": [
    "### Revenue Analysis\n",
    "Analyzing Revenue by Course or Channel:<br>\n",
    "Aggregating amount_paid to understand which courses or channels bring the most revenue."
   ]
  },
  {
   "cell_type": "code",
   "execution_count": 27,
   "id": "422ed659-028f-4fe1-9c4c-87088d27cda8",
   "metadata": {},
   "outputs": [
    {
     "name": "stdout",
     "output_type": "stream",
     "text": [
      "course\n",
      "Java                8760762.0\n",
      "CRM                 5575500.0\n",
      "Guitar              4367187.0\n",
      "Python              4243668.0\n",
      "Figma               1499355.0\n",
      "Google Analytics    1390884.0\n",
      "SEO                 1165010.0\n",
      "Name: amount_paid, dtype: float64\n"
     ]
    }
   ],
   "source": [
    "# Total revenue by course\n",
    "revenue_by_course = course_df.groupby('course')['amount_paid'].sum().sort_values(ascending=False)\n",
    "print(revenue_by_course)"
   ]
  },
  {
   "cell_type": "code",
   "execution_count": 28,
   "id": "5d04dc6f-060e-44b1-abab-2b3311004a0c",
   "metadata": {},
   "outputs": [
    {
     "name": "stdout",
     "output_type": "stream",
     "text": [
      "channel_group\n",
      "A    12911946.0\n",
      "B     5472016.0\n",
      "D     3789779.0\n",
      "C     2321917.0\n",
      "E      877350.0\n",
      "H      699128.0\n",
      "M      499179.0\n",
      "G      261783.0\n",
      "F      137119.0\n",
      "I       32149.0\n",
      "J           0.0\n",
      "K           0.0\n",
      "L           0.0\n",
      "Name: amount_paid, dtype: float64\n"
     ]
    }
   ],
   "source": [
    "# Total revenue by channel\n",
    "revenue_by_channel = course_df.groupby('channel_group')['amount_paid'].sum().sort_values(ascending=False)\n",
    "print(revenue_by_channel)"
   ]
  },
  {
   "cell_type": "markdown",
   "id": "e3d9a46b-15e0-4656-857e-1e6eaaa7e4b9",
   "metadata": {},
   "source": [
    "### Visualization"
   ]
  },
  {
   "cell_type": "markdown",
   "id": "202c803e-790d-4feb-a4ed-38123d61b00c",
   "metadata": {},
   "source": [
    "#### Lead Generation by Channel Group"
   ]
  },
  {
   "cell_type": "code",
   "execution_count": 29,
   "id": "46e91f8a-0ba0-4884-802c-570676a57364",
   "metadata": {},
   "outputs": [
    {
     "data": {
      "image/png": "[encoded data removed]",
      "text/plain": [
       "<Figure size 800x600 with 1 Axes>"
      ]
     },
     "metadata": {},
     "output_type": "display_data"
    }
   ],
   "source": [
    "lead_channel = course_df['channel_group'].value_counts()\n",
    "plt.figure(figsize=(8, 6))\n",
    "sns.barplot(x=lead_channel.index, y=lead_channel.values, palette=\"viridis\",hue=lead_channel.index )\n",
    "plt.title(\"Leads by Channel Group\")\n",
    "plt.ylabel(\"Number of Leads\")\n",
    "plt.xlabel(\"Channel Group\")\n",
    "plt.show()\n"
   ]
  },
  {
   "cell_type": "markdown",
   "id": "85e4ace8-3a30-4d34-ad20-eb1e27255d94",
   "metadata": {},
   "source": [
    "#### High-Performing Courses"
   ]
  },
  {
   "cell_type": "code",
   "execution_count": 83,
   "id": "0318f155-1a9d-457c-9c07-0fcc254ffd6f",
   "metadata": {},
   "outputs": [
    {
     "data": {
      "image/png": "[encoded data removed]",
      "text/plain": [
       "<Figure size 800x600 with 1 Axes>"
      ]
     },
     "metadata": {},
     "output_type": "display_data"
    }
   ],
   "source": [
    "course_performance = course_df.groupby('course')['time_to_payment'].mean().sort_values()\n",
    "plt.figure(figsize=(8, 6))\n",
    "course_performance.plot(kind='barh', color='lightseagreen')\n",
    "plt.title(\"Average Time to Payment by Course\")\n",
    "plt.xlabel(\"Average Time to Payment (Days)\")\n",
    "plt.ylabel(\"Courses\")\n",
    "plt.show()"
   ]
  },
  {
   "cell_type": "markdown",
   "id": "1b5ccaa0-6c1a-4e2b-bf41-f84fe9a46b04",
   "metadata": {},
   "source": [
    "#### Lead Distribution Across Courses"
   ]
  },
  {
   "cell_type": "code",
   "execution_count": 90,
   "id": "c921cfc5-66ce-4ec9-a1e0-2f5f7d136ecb",
   "metadata": {},
   "outputs": [
    {
     "data": {
      "image/png": "[encoded data removed]",
      "text/plain": [
       "<Figure size 600x400 with 1 Axes>"
      ]
     },
     "metadata": {},
     "output_type": "display_data"
    }
   ],
   "source": [
    "course_leads = course_df.groupby('course')['lead_id'].nunique().reset_index()\n",
    "course_leads = course_leads.sort_values(by='lead_id', ascending=False)\n",
    "course_leads = course_leads[course_leads['lead_id'] > 0]\n",
    "\n",
    "# Check if the dataset is empty after filtering\n",
    "if course_leads.empty:\n",
    "    print(\"No data available to plot the treemap.\")\n",
    "else:\n",
    "    # Plotting the treemap\n",
    "    plt.figure(figsize=(6, 4))\n",
    "    squarify.plot(\n",
    "        sizes=course_leads['lead_id'],\n",
    "        label=course_leads['course'],\n",
    "        value=course_leads['lead_id'],\n",
    "        color=sns.color_palette(\"Set2\", len(course_leads)),\n",
    "        alpha=0.8\n",
    "    )\n",
    "\n",
    "    plt.title(\"Lead Distribution Across Courses (Treemap)\", fontsize=16)\n",
    "    plt.axis('off') \n",
    "    plt.tight_layout()\n",
    "    plt.show()"
   ]
  },
  {
   "cell_type": "markdown",
   "id": "55b2f266-2abc-4b97-aaaf-b1c9e9ac95f3",
   "metadata": {},
   "source": [
    "####  Revenue distribution by lead type"
   ]
  },
  {
   "cell_type": "code",
   "execution_count": 69,
   "id": "ccd20650-afd4-4712-9a6c-c84802809956",
   "metadata": {},
   "outputs": [
    {
     "data": {
      "image/png": "[encoded data removed]",
      "text/plain": [
       "<Figure size 600x600 with 1 Axes>"
      ]
     },
     "metadata": {},
     "output_type": "display_data"
    }
   ],
   "source": [
    "lead_type_conversion = lead_type_conversion.sort_values(by='amount_paid', ascending=False)\n",
    "plt.figure(figsize=(6, 6))\n",
    "sns.set(style=\"whitegrid\")\n",
    "sns.barplot(x='lead_type', y='amount_paid', data=lead_type_conversion, color='#F8AE54',palette=\"muted\",hue=\"lead_type\")\n",
    "plt.title(\"Total Amount Paid by Lead Type\")\n",
    "plt.xlabel(\"Lead Type\")\n",
    "plt.ylabel(\"Total Amount Paid\")\n",
    "plt.gca().yaxis.set_major_formatter(plt.FuncFormatter(lambda x, _: f'{int(x / 1_000_000)} M'))\n",
    "plt.show()"
   ]
  },
  {
   "cell_type": "markdown",
   "id": "17300366-37b8-4234-88fa-52b48be3e0a8",
   "metadata": {},
   "source": [
    "#### Revenue Contributions by Courses"
   ]
  },
  {
   "cell_type": "code",
   "execution_count": 51,
   "id": "6102e849-3cf0-4884-a0f1-aa18f2f37183",
   "metadata": {},
   "outputs": [
    {
     "data": {
      "image/png": "[encoded data removed]",
      "text/plain": [
       "<Figure size 800x800 with 1 Axes>"
      ]
     },
     "metadata": {},
     "output_type": "display_data"
    }
   ],
   "source": [
    "course_revenue = course_df.groupby('course')['amount_paid'].sum().sort_values(ascending=False)\n",
    "\n",
    "# Plotting the pie chart\n",
    "plt.figure(figsize=(8, 8))\n",
    "plt.pie(course_revenue, labels=course_revenue.index, autopct='%1.1f%%', colors=plt.cm.Paired.colors)\n",
    "plt.title(\"Percentage Revenue by Course\")\n",
    "plt.show()"
   ]
  },
  {
   "cell_type": "code",
   "execution_count": null,
   "id": "46a69a6f-bffc-4699-8504-83e408b2a5e5",
   "metadata": {},
   "outputs": [],
   "source": []
  }
 ],
 "metadata": {
  "kernelspec": {
   "display_name": "Python 3 (ipykernel)",
   "language": "python",
   "name": "python3"
  },
  "language_info": {
   "codemirror_mode": {
    "name": "ipython",
    "version": 3
   },
   "file_extension": ".py",
   "mimetype": "text/x-python",
   "name": "python",
   "nbconvert_exporter": "python",
   "pygments_lexer": "ipython3",
   "version": "3.12.6"
  }
 },
 "nbformat": 4,
 "nbformat_minor": 5
}
